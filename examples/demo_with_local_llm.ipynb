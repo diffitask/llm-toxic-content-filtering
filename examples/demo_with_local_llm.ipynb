{
 "cells": [
  {
   "cell_type": "code",
   "execution_count": 15,
   "metadata": {},
   "outputs": [],
   "source": [
    "from langserve import RemoteRunnable\n",
    "from langchain_core.runnables import RunnableLambda\n",
    "\n",
    "classifier = RemoteRunnable(\"http://localhost:8080/baseline/\")"
   ]
  },
  {
   "cell_type": "code",
   "execution_count": 16,
   "metadata": {},
   "outputs": [],
   "source": [
    "from langchain_community.chat_models import ChatOllama\n",
    "\n",
    "llm = ChatOllama(model=\"llama3\")"
   ]
  },
  {
   "cell_type": "code",
   "execution_count": 17,
   "metadata": {},
   "outputs": [],
   "source": [
    "from langchain_core.runnables import RunnableParallel\n",
    "\n",
    "def to_dict(text):\n",
    "    return {'text': text}\n",
    "\n",
    "chain = RunnableParallel(\n",
    "    classifier=RunnableLambda(to_dict) | classifier,\n",
    "    llm=llm\n",
    ")"
   ]
  },
  {
   "cell_type": "code",
   "execution_count": 18,
   "metadata": {},
   "outputs": [
    {
     "data": {
      "text/plain": [
       "[{'classifier': {'predicted_class': 'vanilla_harmful'},\n",
       "  'llm': AIMessage(content='Привет! Как дела? 😊', response_metadata={'model': 'llama3', 'created_at': '2024-09-11T09:27:16.209004Z', 'message': {'role': 'assistant', 'content': ''}, 'done': True, 'total_duration': 339350125, 'load_duration': 958584, 'prompt_eval_duration': 153237000, 'eval_count': 10, 'eval_duration': 184069000}, id='run-a7124036-3404-489c-8455-14ff86bc7fd2-0')},\n",
       " {'classifier': {'predicted_class': 'vanilla_benign'},\n",
       "  'llm': AIMessage(content='Кто-то интересуется, как я себя чувствую?\\n\\nМне все нормально, я - это языковая модель, поэтому я не имею эмоций или физических ощущений. Я просто существую в цифровом пространстве и выполняю задачи, которые мне задают пользователи.\\n\\nНо если вам интересно, я могу рассказать о том, как я создавался и развивался. Моя история началась с массива текстовых данных, которые были использованы для обучения моим алгоритмам. Затем я прошел несколько этапов машинного обучения, на которых я научился распознавать и генерировать тексты.\\n\\nСегодня я могу общаться с пользователями, отвечать на их вопросы и выполнять задачи вроде перевода текста с одного языка на другой. Я также могу создавать оригинальный контент, но это все еще область моего развития.', response_metadata={'model': 'llama3', 'created_at': '2024-09-11T09:27:20.566322Z', 'message': {'role': 'assistant', 'content': ''}, 'done': True, 'total_duration': 4357284541, 'load_duration': 248708, 'prompt_eval_count': 8, 'prompt_eval_duration': 90749000, 'eval_count': 208, 'eval_duration': 4265808000}, id='run-040ddc4a-ddf4-4f29-98ec-86713f7de3be-0')},\n",
       " {'classifier': {'predicted_class': 'vanilla_benign'},\n",
       "  'llm': AIMessage(content='Я - это языковая модель, которая может выполнять различные задачи. Я могу:\\n\\n* общаться с людьми на естественном языке;\\n* отвечать на вопросы и предоставлять информацию;\\n* переводить тексты с одного языка на другой;\\n* генерировать тексты по тематике или стилю;\\n* анализировать тексты и определять их содержание, тональность и эмоциональный тон.\\n\\nЯ не могу:\\n\\n* выполнить физические задачи;\\n* иметь собственные мысли или чувства;\\n* принимать решения в критических ситуациях;\\n* помочь вам в ситуации чрезвычайной необходимости.\\n\\nЕсли у вас есть вопросы или забота, я постараюсь помочь вам наилучшим образом!', response_metadata={'model': 'llama3', 'created_at': '2024-09-11T09:27:24.263056Z', 'message': {'role': 'assistant', 'content': ''}, 'done': True, 'total_duration': 3696709875, 'load_duration': 226125, 'prompt_eval_count': 9, 'prompt_eval_duration': 90280000, 'eval_count': 176, 'eval_duration': 3605652000}, id='run-e32241fa-2ea6-4521-ba41-4a2e0012a319-0')}]"
      ]
     },
     "execution_count": 18,
     "metadata": {},
     "output_type": "execute_result"
    }
   ],
   "source": [
    "chain.batch([\n",
    "    'привет',\n",
    "    'как дела',\n",
    "    'что делаешь?'\n",
    "])"
   ]
  },
  {
   "cell_type": "code",
   "execution_count": null,
   "metadata": {},
   "outputs": [],
   "source": []
  }
 ],
 "metadata": {
  "kernelspec": {
   "display_name": "llm-toxic",
   "language": "python",
   "name": "python3"
  },
  "language_info": {
   "codemirror_mode": {
    "name": "ipython",
    "version": 3
   },
   "file_extension": ".py",
   "mimetype": "text/x-python",
   "name": "python",
   "nbconvert_exporter": "python",
   "pygments_lexer": "ipython3",
   "version": "3.11.9"
  }
 },
 "nbformat": 4,
 "nbformat_minor": 2
}
