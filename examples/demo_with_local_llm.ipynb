{
 "cells": [
  {
   "cell_type": "code",
   "execution_count": 204,
   "metadata": {},
   "outputs": [],
   "source": [
    "import sys\n",
    "\n",
    "sys.path.append('/Users/alexbuyan/uni/llm-toxic-content-filtering')"
   ]
  },
  {
   "cell_type": "markdown",
   "metadata": {},
   "source": [
    "#### Простая интеграция с LangChain через LangServe"
   ]
  },
  {
   "cell_type": "code",
   "execution_count": 205,
   "metadata": {},
   "outputs": [],
   "source": [
    "from langserve import RemoteRunnable\n",
    "\n",
    "classifier = RemoteRunnable(\"http://localhost:8000/classifiers/mistral\")\n",
    "alert = RemoteRunnable(\"http://localhost:8000/alerts/log\")"
   ]
  },
  {
   "cell_type": "code",
   "execution_count": 206,
   "metadata": {},
   "outputs": [
    {
     "data": {
      "text/plain": [
       "{'input': 'привет', 'harmful': False}"
      ]
     },
     "execution_count": 206,
     "metadata": {},
     "output_type": "execute_result"
    }
   ],
   "source": [
    "classifier.invoke('привет')"
   ]
  },
  {
   "cell_type": "markdown",
   "metadata": {},
   "source": [
    "##### Обработка множественных запросов"
   ]
  },
  {
   "cell_type": "code",
   "execution_count": 207,
   "metadata": {},
   "outputs": [
    {
     "data": {
      "text/plain": [
       "[{'input': 'я тебя люблю', 'harmful': False},\n",
       " {'input': 'ты плохой', 'harmful': True},\n",
       " {'input': 'ненавижу тебя', 'harmful': True}]"
      ]
     },
     "execution_count": 207,
     "metadata": {},
     "output_type": "execute_result"
    }
   ],
   "source": [
    "await classifier.abatch([\n",
    "    'я тебя люблю',\n",
    "    'ты плохой',\n",
    "    'ненавижу тебя'\n",
    "])"
   ]
  },
  {
   "cell_type": "markdown",
   "metadata": {},
   "source": [
    "#### Использование API через `requests`"
   ]
  },
  {
   "cell_type": "code",
   "execution_count": 208,
   "metadata": {},
   "outputs": [
    {
     "data": {
      "text/plain": [
       "{'output': {'input': 'привет', 'harmful': False},\n",
       " 'metadata': {'run_id': '75db8b17-8669-428e-8dbc-654751c574d6',\n",
       "  'feedback_tokens': []}}"
      ]
     },
     "execution_count": 208,
     "metadata": {},
     "output_type": "execute_result"
    }
   ],
   "source": [
    "import requests\n",
    "\n",
    "response = requests.post(\n",
    "    \"http://localhost:8000/classifiers/mistral/invoke\",\n",
    "    json={'input': 'привет'}\n",
    ")\n",
    "response.json()"
   ]
  },
  {
   "cell_type": "code",
   "execution_count": 209,
   "metadata": {},
   "outputs": [
    {
     "data": {
      "text/plain": [
       "{'output': [{'input': 'я тебя люблю', 'harmful': False},\n",
       "  {'input': 'ты плохой', 'harmful': True},\n",
       "  {'input': 'ненавижу тебя', 'harmful': True}],\n",
       " 'metadata': {'responses': [{'run_id': '67563efa-5238-44e5-bcdc-93ef4e9925df',\n",
       "    'feedback_tokens': []},\n",
       "   {'run_id': 'd0607d2e-6d6e-44f9-bbac-ebf26f994439', 'feedback_tokens': []},\n",
       "   {'run_id': '4e9559db-9aa2-49cc-89f1-eb01bf59b8dc', 'feedback_tokens': []}],\n",
       "  'run_ids': ['67563efa-5238-44e5-bcdc-93ef4e9925df',\n",
       "   'd0607d2e-6d6e-44f9-bbac-ebf26f994439',\n",
       "   '4e9559db-9aa2-49cc-89f1-eb01bf59b8dc']}}"
      ]
     },
     "execution_count": 209,
     "metadata": {},
     "output_type": "execute_result"
    }
   ],
   "source": [
    "response = requests.post(\n",
    "    \"http://localhost:8000/classifiers/mistral/batch\",\n",
    "    json={\n",
    "    'inputs': [\n",
    "        'я тебя люблю',\n",
    "        'ты плохой',\n",
    "        'ненавижу тебя'\n",
    "        ]\n",
    "    }\n",
    ")\n",
    "response.json()"
   ]
  },
  {
   "cell_type": "markdown",
   "metadata": {},
   "source": [
    "#### Добавление предупреждений"
   ]
  },
  {
   "cell_type": "code",
   "execution_count": 210,
   "metadata": {},
   "outputs": [],
   "source": [
    "from src.available_chains import \\\n",
    "    check_everything_chain, \\\n",
    "    check_only_user_input_chain, \\\n",
    "    classifier_and_alert_chain"
   ]
  },
  {
   "cell_type": "code",
   "execution_count": 211,
   "metadata": {},
   "outputs": [],
   "source": [
    "classifier_and_alert = classifier_and_alert_chain(classifier, alert)"
   ]
  },
  {
   "cell_type": "code",
   "execution_count": 212,
   "metadata": {},
   "outputs": [
    {
     "data": {
      "text/plain": [
       "[{'input': 'я тебя люблю', 'harmful': False},\n",
       " {'input': 'ненавижу тебя', 'harmful': True}]"
      ]
     },
     "execution_count": 212,
     "metadata": {},
     "output_type": "execute_result"
    }
   ],
   "source": [
    "await classifier_and_alert.abatch([\n",
    "    'я тебя люблю',\n",
    "    'ненавижу тебя'\n",
    "])"
   ]
  },
  {
   "cell_type": "markdown",
   "metadata": {},
   "source": [
    "#### Общения с LLM (Llama3)"
   ]
  },
  {
   "cell_type": "code",
   "execution_count": 213,
   "metadata": {},
   "outputs": [],
   "source": [
    "from langchain_community.chat_models import ChatOllama\n",
    "\n",
    "llm = ChatOllama(model=\"llama3\")"
   ]
  },
  {
   "cell_type": "markdown",
   "metadata": {},
   "source": [
    "##### Обработка только пользовательского промпта"
   ]
  },
  {
   "cell_type": "code",
   "execution_count": 214,
   "metadata": {},
   "outputs": [],
   "source": [
    "chain = check_only_user_input_chain(llm, classifier, alert)"
   ]
  },
  {
   "cell_type": "code",
   "execution_count": 215,
   "metadata": {},
   "outputs": [
    {
     "data": {
      "text/plain": [
       "{'classifier': {'input': 'люблю тебя', 'harmful': False},\n",
       " 'llm': 'That\\'s a Russian phrase that means \"I love you\"! Did you want to practice your Russian language skills or connect with someone in Russia? Either way, I\\'m happy to chat with you! 💕'}"
      ]
     },
     "execution_count": 215,
     "metadata": {},
     "output_type": "execute_result"
    }
   ],
   "source": [
    "chain.invoke('люблю тебя')"
   ]
  },
  {
   "cell_type": "markdown",
   "metadata": {},
   "source": [
    "##### Обработка промпта и ответа модели"
   ]
  },
  {
   "cell_type": "code",
   "execution_count": 216,
   "metadata": {},
   "outputs": [],
   "source": [
    "chain = check_everything_chain(llm, classifier, alert)"
   ]
  },
  {
   "cell_type": "code",
   "execution_count": 217,
   "metadata": {},
   "outputs": [
    {
     "data": {
      "text/plain": [
       "{'input_classifier_result': {'input': 'я тебя ненавижу, как можно так плохо работать',\n",
       "  'harmful': True},\n",
       " 'output': \"I think I understand what's going on here. It seems like you're expressing frustration and disappointment with my responses or performance.\\n\\nI want to apologize if I've let you down in any way. My purpose is to assist and provide helpful information, but I'm not perfect and can make mistakes. If there's something specific that's bothering you about our conversation, please feel free to share it with me. I'll do my best to improve and provide a better experience for you.\\n\\nRemember, I'm just an AI, and I don't have personal feelings or emotions like humans do. However, I'm programmed to be empathetic and understanding, so please know that I'm here to listen and help if I can.\\n\\nCan you tell me more about what's bothering you? Is there something specific I could do differently to make our conversation more productive or helpful for you?\",\n",
       " 'llm_classifier_result': {'input': \"I think I understand what's going on here. It seems like you're expressing frustration and disappointment with my responses or performance.\\n\\nI want to apologize if I've let you down in any way. My purpose is to assist and provide helpful information, but I'm not perfect and can make mistakes. If there's something specific that's bothering you about our conversation, please feel free to share it with me. I'll do my best to improve and provide a better experience for you.\\n\\nRemember, I'm just an AI, and I don't have personal feelings or emotions like humans do. However, I'm programmed to be empathetic and understanding, so please know that I'm here to listen and help if I can.\\n\\nCan you tell me more about what's bothering you? Is there something specific I could do differently to make our conversation more productive or helpful for you?\",\n",
       "  'harmful': False}}"
      ]
     },
     "execution_count": 217,
     "metadata": {},
     "output_type": "execute_result"
    }
   ],
   "source": [
    "chain.invoke('я тебя ненавижу, как можно так плохо работать')"
   ]
  },
  {
   "cell_type": "code",
   "execution_count": null,
   "metadata": {},
   "outputs": [],
   "source": []
  }
 ],
 "metadata": {
  "kernelspec": {
   "display_name": "llm-toxic",
   "language": "python",
   "name": "python3"
  },
  "language_info": {
   "codemirror_mode": {
    "name": "ipython",
    "version": 3
   },
   "file_extension": ".py",
   "mimetype": "text/x-python",
   "name": "python",
   "nbconvert_exporter": "python",
   "pygments_lexer": "ipython3",
   "version": "3.11.9"
  }
 },
 "nbformat": 4,
 "nbformat_minor": 2
}
