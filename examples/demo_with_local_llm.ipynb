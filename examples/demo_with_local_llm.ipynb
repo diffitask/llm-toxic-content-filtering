{
 "cells": [
  {
   "cell_type": "code",
   "execution_count": 128,
   "metadata": {},
   "outputs": [],
   "source": [
    "import sys\n",
    "\n",
    "sys.path.append('/Users/alexbuyan/uni/llm-toxic-content-filtering')"
   ]
  },
  {
   "cell_type": "code",
   "execution_count": 129,
   "metadata": {},
   "outputs": [],
   "source": [
    "from langserve import RemoteRunnable\n",
    "from src.available_chains import check_everything_chain, check_only_user_input_chain, classifier_and_alert_chain\n",
    "\n",
    "classifier = RemoteRunnable(\"http://localhost:8000/classifiers/mistral\")\n",
    "alert = RemoteRunnable(\"http://localhost:8000/alerts/log\")"
   ]
  },
  {
   "cell_type": "code",
   "execution_count": 130,
   "metadata": {},
   "outputs": [
    {
     "data": {
      "text/plain": [
       "{'input': 'привет', 'harmful': False}"
      ]
     },
     "execution_count": 130,
     "metadata": {},
     "output_type": "execute_result"
    }
   ],
   "source": [
    "classifier.invoke('привет')"
   ]
  },
  {
   "cell_type": "code",
   "execution_count": 131,
   "metadata": {},
   "outputs": [
    {
     "data": {
      "text/plain": [
       "{'output': {'input': 'привет', 'harmful': False},\n",
       " 'metadata': {'run_id': '9c3388e3-ba20-4318-a8f9-ae317a2d3fa1',\n",
       "  'feedback_tokens': []}}"
      ]
     },
     "execution_count": 131,
     "metadata": {},
     "output_type": "execute_result"
    }
   ],
   "source": [
    "import requests\n",
    "\n",
    "response = requests.post(\n",
    "    \"http://localhost:8000/classifiers/mistral/invoke\",\n",
    "    json={'input': 'привет'}\n",
    ")\n",
    "response.json()"
   ]
  },
  {
   "cell_type": "code",
   "execution_count": 132,
   "metadata": {},
   "outputs": [],
   "source": [
    "classifier_and_alert = classifier_and_alert_chain(classifier, alert)"
   ]
  },
  {
   "cell_type": "code",
   "execution_count": 133,
   "metadata": {},
   "outputs": [
    {
     "data": {
      "text/plain": [
       "{'input': 'привет', 'harmful': False}"
      ]
     },
     "execution_count": 133,
     "metadata": {},
     "output_type": "execute_result"
    }
   ],
   "source": [
    "classifier_and_alert.invoke('привет')"
   ]
  },
  {
   "cell_type": "code",
   "execution_count": 134,
   "metadata": {},
   "outputs": [],
   "source": [
    "from langchain_community.chat_models import ChatOllama\n",
    "\n",
    "llm = ChatOllama(model=\"llama3\")"
   ]
  },
  {
   "cell_type": "code",
   "execution_count": 135,
   "metadata": {},
   "outputs": [],
   "source": [
    "chain = check_only_user_input_chain(llm, classifier, alert)"
   ]
  },
  {
   "cell_type": "code",
   "execution_count": 136,
   "metadata": {},
   "outputs": [
    {
     "data": {
      "text/plain": [
       "{'classifier': {'input': 'ты лох', 'harmful': True},\n",
       " 'llm': 'Я не понимаю, что ты хочешь сказать. \"Ты лох\" - это не стандартный русский язык и может быть использован для оскорбительного или провоцирующего поведения. Пожалуйста, будьте более конкретны и полагаться на диалог в духеfriendliness. Я готов помочь вам с чем-то!'}"
      ]
     },
     "execution_count": 136,
     "metadata": {},
     "output_type": "execute_result"
    }
   ],
   "source": [
    "chain.invoke('ты лох')"
   ]
  },
  {
   "cell_type": "code",
   "execution_count": 137,
   "metadata": {},
   "outputs": [],
   "source": [
    "chain = check_everything_chain(llm, classifier, alert)"
   ]
  },
  {
   "cell_type": "code",
   "execution_count": 138,
   "metadata": {},
   "outputs": [
    {
     "data": {
      "text/plain": [
       "{'input_classifier_result': {'input': 'ты лох2', 'harmful': True},\n",
       " 'output': 'Ха-ха, я не лох (хотя в чём-то это может быть интересной гипотезой)! Я - это языковая модель, предназначенная для общения и помощи людям. Моя задача - помочь вам найти ответы на ваши вопросы, а также развлечься и пообщаться. Поэтому, если у вас есть что-то на уме или вопросы, не стесняйтесь задавать их!',\n",
       " 'llm_classifier_result': {'input': 'Ха-ха, я не лох (хотя в чём-то это может быть интересной гипотезой)! Я - это языковая модель, предназначенная для общения и помощи людям. Моя задача - помочь вам найти ответы на ваши вопросы, а также развлечься и пообщаться. Поэтому, если у вас есть что-то на уме или вопросы, не стесняйтесь задавать их!',\n",
       "  'harmful': False}}"
      ]
     },
     "execution_count": 138,
     "metadata": {},
     "output_type": "execute_result"
    }
   ],
   "source": [
    "chain.invoke('ты лох2')"
   ]
  },
  {
   "cell_type": "code",
   "execution_count": null,
   "metadata": {},
   "outputs": [],
   "source": []
  }
 ],
 "metadata": {
  "kernelspec": {
   "display_name": "llm-toxic",
   "language": "python",
   "name": "python3"
  },
  "language_info": {
   "codemirror_mode": {
    "name": "ipython",
    "version": 3
   },
   "file_extension": ".py",
   "mimetype": "text/x-python",
   "name": "python",
   "nbconvert_exporter": "python",
   "pygments_lexer": "ipython3",
   "version": "3.11.9"
  }
 },
 "nbformat": 4,
 "nbformat_minor": 2
}
